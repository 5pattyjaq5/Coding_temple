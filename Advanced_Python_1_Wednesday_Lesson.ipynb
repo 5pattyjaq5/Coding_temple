{
  "cells": [
    {
      "attachments": {},
      "cell_type": "markdown",
      "metadata": {
        "id": "6CWTVFmn_Mve"
      },
      "source": [
        "# Map, Filter, Reduce, Lambda & Recursion"
      ]
    },
    {
      "attachments": {},
      "cell_type": "markdown",
      "metadata": {
        "id": "sBZJzyxj_Mvi"
      },
      "source": [
        "## Tasks Today:\n",
        "\n",
        "1) <b>Lambda Functions</b> <br>\n",
        " &nbsp;&nbsp;&nbsp;&nbsp; a) Syntax <br>\n",
        " &nbsp;&nbsp;&nbsp;&nbsp; b) Saving to a Variable <br>\n",
        " &nbsp;&nbsp;&nbsp;&nbsp; c) Multiple Inputs <br>\n",
        " &nbsp;&nbsp;&nbsp;&nbsp; d) Passing a Lambda into a Function <br>\n",
        " &nbsp;&nbsp;&nbsp;&nbsp; e) Returning a Lambda from a Function <br>\n",
        " &nbsp;&nbsp;&nbsp;&nbsp; f) In-Class Exercise #1 <br>\n",
        "2) <b>Map</b> <br>\n",
        " &nbsp;&nbsp;&nbsp;&nbsp; a) Syntax <br>\n",
        " &nbsp;&nbsp;&nbsp;&nbsp; b) Using Lambda's with Map <br>\n",
        " &nbsp;&nbsp;&nbsp;&nbsp; c) In-Class Exercise #2 <br>\n",
        "3) <b>Filter</b> <br>\n",
        " &nbsp;&nbsp;&nbsp;&nbsp; a) Syntax <br>\n",
        " &nbsp;&nbsp;&nbsp;&nbsp; b) Using Lambda's with Filter <br>\n",
        " &nbsp;&nbsp;&nbsp;&nbsp; c) In-Class Exercise #3 <br>\n",
        "4) <b>Recursion</b> <br>\n",
        " &nbsp;&nbsp;&nbsp;&nbsp; a) Implementing a Base <br>\n",
        " &nbsp;&nbsp;&nbsp;&nbsp; b) Writing a Factorial Function <br>\n",
        " &nbsp;&nbsp;&nbsp;&nbsp; c) In-Class Exercise #4 <br>\n",
        "5) <b>Generators & Iterators</b> <br>\n",
        " &nbsp;&nbsp;&nbsp;&nbsp; a) Yield Keyword <br>\n",
        " &nbsp;&nbsp;&nbsp;&nbsp; c) In-Class Exercise #5 <br>\n",
        "6) <b>Exercises</b> <br>\n",
        " &nbsp;&nbsp;&nbsp;&nbsp; a) Exercise #1 - Filtering Empty Strings <br>\n",
        " &nbsp;&nbsp;&nbsp;&nbsp; b) Exercise #2 - Sorting with Last Name <br>\n",
        " &nbsp;&nbsp;&nbsp;&nbsp; c) Exercise #3 - Conversion to Farhenheit <br>\n",
        " &nbsp;&nbsp;&nbsp;&nbsp; d) Exercise #4 - Fibonacci Sequence <br>"
      ]
    },
    {
      "attachments": {},
      "cell_type": "markdown",
      "metadata": {
        "id": "zv3SnIM0_Mvj"
      },
      "source": [
        "## Lambda Functions <br>\n",
        "<p>Lambda functions... or \"Anonymous Functions\" are referring to inline functions with no name. The keyword lambda denotes the no name function, and executes within a single line. Without saving it to a variable; however, it is not able to be used, unless passed in either as a paramater or within list comprehension.<br>Written as \"(keyword lambda) (one or more inputs) (colon) (function to be executed)\"</p>"
      ]
    },
    {
      "attachments": {},
      "cell_type": "markdown",
      "metadata": {
        "id": "RU6TAdoo_Mvk"
      },
      "source": [
        "#### Syntax"
      ]
    },
    {
      "cell_type": "code",
      "execution_count": 1,
      "metadata": {
        "id": "lepRXkqx_Mvk"
      },
      "outputs": [
        {
          "name": "stdout",
          "output_type": "stream",
          "text": [
            "6\n",
            "6\n"
          ]
        }
      ],
      "source": [
        "#lambda >input< x : what we want to do\n",
        "# lets take a look at how we can create a function to add two to a variable\n",
        "def add_two(x):\n",
        "    return x+2\n",
        "\n",
        "#then we can test it:\n",
        "print(add_two(4))\n",
        "\n",
        "# this is great if we are looking to reuse this function over nd over again \n",
        "# but what if tthis was something i only wanted to do once?\n",
        "# lambda comes into play \n",
        "a_var = 4\n",
        "print((lambda x: x+2)(a_var))\n"
      ]
    },
    {
      "attachments": {},
      "cell_type": "markdown",
      "metadata": {
        "id": "z3yd8V5q_Mvl"
      },
      "source": [
        "#### Saving to a Variable"
      ]
    },
    {
      "cell_type": "code",
      "execution_count": 2,
      "metadata": {
        "id": "PH1dgTHI_Mvl"
      },
      "outputs": [
        {
          "data": {
            "text/plain": [
              "6"
            ]
          },
          "execution_count": 2,
          "metadata": {},
          "output_type": "execute_result"
        }
      ],
      "source": [
        "# we can save a lambda function to a variable for reuseability \n",
        "# do not recommend this as you can write a function to do the same thing \n",
        "f_test = lambda x: x+2\n",
        "f_test(4)"
      ]
    },
    {
      "attachments": {},
      "cell_type": "markdown",
      "metadata": {
        "id": "LEnhQ206_Mvl"
      },
      "source": [
        "#### Multiple Inputs"
      ]
    },
    {
      "cell_type": "code",
      "execution_count": 3,
      "metadata": {
        "id": "yhz4e8oc_Mvm"
      },
      "outputs": [
        {
          "name": "stdout",
          "output_type": "stream",
          "text": [
            "120\n",
            "120\n"
          ]
        }
      ],
      "source": [
        "# no variables\n",
        "print((lambda x,y,z: x * y * z)(3,5,8))\n",
        "\n",
        "x_test = lambda x,y,z: x * y * z\n",
        "print(x_test(3,5,8))"
      ]
    },
    {
      "attachments": {},
      "cell_type": "markdown",
      "metadata": {
        "id": "0rAdEh_O_Mvm"
      },
      "source": [
        "#### Passing a Lambda into a Function"
      ]
    },
    {
      "cell_type": "code",
      "execution_count": 4,
      "metadata": {
        "id": "YMH292Cx_Mvm"
      },
      "outputs": [
        {
          "data": {
            "text/plain": [
              "16"
            ]
          },
          "execution_count": 4,
          "metadata": {},
          "output_type": "execute_result"
        }
      ],
      "source": [
        "def multiply(f, num):\n",
        "    '''\n",
        "    f expects to see a function (lambda function)\n",
        "    num expects a single number\n",
        "    '''\n",
        "    return f(num)\n",
        "multiply(lambda x: x*x, 4)"
      ]
    },
    {
      "attachments": {},
      "cell_type": "markdown",
      "metadata": {
        "id": "ZLGVscCG_Mvn"
      },
      "source": [
        "#### Returning a Lambda from a Function"
      ]
    },
    {
      "cell_type": "code",
      "execution_count": 5,
      "metadata": {
        "id": "QKwjPC7n_Mvn"
      },
      "outputs": [
        {
          "name": "stdout",
          "output_type": "stream",
          "text": [
            "8\n",
            "<function return_lamb.<locals>.<lambda> at 0x0000016BC8169BD0>\n",
            "19\n"
          ]
        }
      ],
      "source": [
        "def multiply_test(num):\n",
        "    return num * 4\n",
        "\n",
        "#lets try func of another func\n",
        "def return_function():\n",
        "    test = 4\n",
        "    def multiply(num):\n",
        "        return num*2\n",
        "    return multiply\n",
        "f_return = return_function()\n",
        "print(f_return(4))\n",
        "\n",
        "# what if i wanted to instead return a lambda function from my regular function?\n",
        "def return_lamb(b,c):\n",
        "    return lambda x,a: x+a+b+c\n",
        "\n",
        "r_lamb = return_lamb(4,5)\n",
        "print(r_lamb)\n",
        "print(r_lamb(5,5))\n"
      ]
    },
    {
      "attachments": {},
      "cell_type": "markdown",
      "metadata": {
        "id": "WGTdhTpo_Mvn"
      },
      "source": [
        "#### If Statements within Lambdas"
      ]
    },
    {
      "cell_type": "code",
      "execution_count": 6,
      "metadata": {
        "id": "TYYHh_mD_Mvn"
      },
      "outputs": [
        {
          "name": "stdout",
          "output_type": "stream",
          "text": [
            "10\n",
            "40\n"
          ]
        }
      ],
      "source": [
        "# lambdas are set up to take in conditionla statements \n",
        "#lambda x: True if (condition happens) else False\n",
        "# lambda x: do something if (condition happens) else do something else\n",
        "f_conditional = lambda num: num *2 if num > 10 else num + 2\n",
        "print(f_conditional(8))\n",
        "print(f_conditional(20))"
      ]
    },
    {
      "attachments": {},
      "cell_type": "markdown",
      "metadata": {},
      "source": []
    },
    {
      "attachments": {},
      "cell_type": "markdown",
      "metadata": {
        "id": "Va27c3uJ_Mvn"
      },
      "source": [
        "#### In-Class Exercise #1 <br>\n",
        "<p>Write an anonymous function that cubes the arguments passed in and assign the anonymous function to a variable 'f'.</p>"
      ]
    },
    {
      "cell_type": "code",
      "execution_count": 7,
      "metadata": {
        "id": "Daf-1bIP_Mvo"
      },
      "outputs": [
        {
          "name": "stdout",
          "output_type": "stream",
          "text": [
            "8\n"
          ]
        }
      ],
      "source": [
        "f = lambda x: x ** 3\n",
        "result = f(2) \n",
        "print(result)"
      ]
    },
    {
      "attachments": {},
      "cell_type": "markdown",
      "metadata": {
        "id": "yJJUgxKC_Mvo"
      },
      "source": [
        "## Map <br>\n",
        "<p>The map function allows you to iterate over an entire list while running a function on each item of the list. This is why the map function works well with lambda's, because it simplifies things and you write less lines of code.<br>The syntax for a map function is \"map(function to be used, list to be used)\"<br>However, you must be careful, as the map function returns a map object, not a list. To turn it into a list we use the list() type conversion.</p>"
      ]
    },
    {
      "attachments": {},
      "cell_type": "markdown",
      "metadata": {
        "id": "Xt_Jq1tZ_Mvo"
      },
      "source": [
        "#### Syntax"
      ]
    },
    {
      "cell_type": "code",
      "execution_count": 8,
      "metadata": {
        "id": "TGgEI05r_Mvo"
      },
      "outputs": [],
      "source": [
        "#%time = magic\n",
        "\n",
        "\n",
        "numbers = [4,11,20,3,15,20,11,2,3,6,5,1,44,1]\n",
        "def squared_normal(val):\n",
        "    return val ** 2\n",
        "lst =[]\n",
        "for num in numbers:\n",
        "    squared_normal(num)\n",
        "\n"
      ]
    },
    {
      "cell_type": "code",
      "execution_count": 9,
      "metadata": {},
      "outputs": [
        {
          "name": "stdout",
          "output_type": "stream",
          "text": [
            "CPU times: total: 0 ns\n",
            "Wall time: 0 ns\n",
            "[(16, 16), (11, 10), (20, 3), (9, 4), (15, 6), (20, 10), (11, 15), (4, 9), (9, 16), (36, 49), (25, 36), (1, 0), (44, 41), (1, 4)]\n",
            "[16, 121, 400, 9, 225, 400, 121, 4, 9, 36, 25, 1, 1936, 1]\n"
          ]
        }
      ],
      "source": [
        "# by using a map function, we can iterate through a list and apply a function without ever having to iterate ourselves\n",
        "''' \n",
        "map(function, iterable)\n",
        "and iterable is something we can loop over: suck as a list, dict, tuple, set or a string.\n",
        "normally, yuo can use a map with a predefined function, but we can use it with a lambda statement\n",
        "'''\n",
        "%time\n",
        "def squared_map(num, num2):\n",
        "    if num < 10 and num2 < 10:\n",
        "        return num**2, num2**2\n",
        "    else:\n",
        "        return num, num2\n",
        "\n",
        "numbers = [4,11,20,3,15,20,11,2,3,6,5,1,44,1]\n",
        "more_nums = [4,10,3,2,6,10,15,3,4,7,6,0,41,2]\n",
        "\n",
        "\n",
        "\n",
        "squared_numbers_mapped = list(map(squared_map, numbers, more_nums))\n",
        "print(squared_numbers_mapped)\n",
        "\n",
        "another_squared_nums_mapped = list(map(squared_normal, numbers))\n",
        "print(another_squared_nums_mapped)\n",
        "\n"
      ]
    },
    {
      "attachments": {},
      "cell_type": "markdown",
      "metadata": {
        "id": "AjWn3RPM_Mvo"
      },
      "source": [
        "#### Using Lambda's with Map"
      ]
    },
    {
      "cell_type": "code",
      "execution_count": 11,
      "metadata": {
        "id": "yKj7455A_Mvp"
      },
      "outputs": [
        {
          "data": {
            "text/plain": [
              "[(16, 16),\n",
              " (11, 10),\n",
              " (20, 3),\n",
              " (9, 4),\n",
              " (15, 6),\n",
              " (20, 10),\n",
              " (11, 15),\n",
              " (4, 9),\n",
              " (9, 16),\n",
              " (36, 49),\n",
              " (25, 36),\n",
              " (1, 0),\n",
              " (44, 41),\n",
              " (1, 4)]"
            ]
          },
          "execution_count": 11,
          "metadata": {},
          "output_type": "execute_result"
        }
      ],
      "source": [
        "list(map(lambda x,y: (x**2, y**2)if x<10 and y<10 else (x,y), numbers, more_nums))"
      ]
    },
    {
      "attachments": {},
      "cell_type": "markdown",
      "metadata": {
        "id": "gwStMhKG_Mvp"
      },
      "source": [
        "#### In-Class Exercise #2 <br>\n",
        "<p>Use the map function to double each number and minus it by one in the list by using a lambda function</p>"
      ]
    },
    {
      "cell_type": "code",
      "execution_count": 10,
      "metadata": {
        "id": "bwnXQjML_Mvp"
      },
      "outputs": [
        {
          "name": "stdout",
          "output_type": "stream",
          "text": [
            "[39, 5, 19, 11, 5, 23]\n"
          ]
        },
        {
          "data": {
            "text/plain": [
              "['*****', '*abc*', '*ded*', '*****']"
            ]
          },
          "execution_count": 10,
          "metadata": {},
          "output_type": "execute_result"
        }
      ],
      "source": [
        "l_m = [20,3,10,6,3,12]\n",
        "l_n = [30,2,15,4,5,16]\n",
        "\n",
        "n_list= list(map(lambda x: x*2-1,l_m))\n",
        "print(n_list)\n",
        "picture = [ '','abc', 'ded', '']\n",
        "list(map(lambda x: '*' + x + '*' if len(x) > 1 else '*****', picture))\n"
      ]
    },
    {
      "attachments": {},
      "cell_type": "markdown",
      "metadata": {
        "id": "1yP5tS-5_Mvp"
      },
      "source": [
        "## Filter() <br>\n",
        "<p>Filter's are similar to the map function, where you're able to pass a function argument and a list argument and filter out something from the list based on the conditions passed. Similar to the map function, it returns a filter object, so you need to type convert it to a list()</p>"
      ]
    },
    {
      "attachments": {},
      "cell_type": "markdown",
      "metadata": {
        "id": "-4E29XVC_Mvp"
      },
      "source": [
        "#### Syntax"
      ]
    },
    {
      "cell_type": "code",
      "execution_count": 11,
      "metadata": {
        "id": "HUjqkTZ2_Mvp"
      },
      "outputs": [
        {
          "data": {
            "text/plain": [
              "['Andy', 'Angela']"
            ]
          },
          "execution_count": 11,
          "metadata": {},
          "output_type": "execute_result"
        }
      ],
      "source": [
        "# syntax for this looks like:\n",
        "# list(filter(function, iterable(s)))\n",
        "\n",
        "names = ['Bob', 'Andy', 'Max', 'Evan', 'Angela']\n",
        "def a_names(name):\n",
        "    #in this function, we will check to see if the first letter of each name begins w \"A\"\n",
        "    if name[0].lower() == 'a':\n",
        "        return True \n",
        "    else: # if it is not an \"a\"\n",
        "        return False\n",
        "list(filter(a_names, names))"
      ]
    },
    {
      "attachments": {},
      "cell_type": "markdown",
      "metadata": {
        "id": "OPzBC9Cb_Mvp"
      },
      "source": [
        "#### Using Lambda's with Filter()"
      ]
    },
    {
      "cell_type": "code",
      "execution_count": 12,
      "metadata": {
        "id": "zjxgmw9T_Mvq"
      },
      "outputs": [
        {
          "data": {
            "text/plain": [
              "['Andy', 'Angela']"
            ]
          },
          "execution_count": 12,
          "metadata": {},
          "output_type": "execute_result"
        }
      ],
      "source": [
        "# we can also use Lambdas w the filter function!\n",
        "# this is great if you are looking to filter data w a single-use function instead of having to define\n",
        "# an create another function like we did above \n",
        "list(filter(lambda name: True if name[0].lower() == 'a' else False, names))"
      ]
    },
    {
      "attachments": {},
      "cell_type": "markdown",
      "metadata": {
        "id": "Fih1P0Cy_Mvq"
      },
      "source": [
        "#### In-Class Exercise #3 <br>\n",
        "<p>Filter out all the numbers that are below the mean of the list.<br><b>Hint: Import the 'statistics' module</b></p>"
      ]
    },
    {
      "cell_type": "code",
      "execution_count": 13,
      "metadata": {
        "id": "l4ZWP74-_Mvq"
      },
      "outputs": [
        {
          "name": "stdout",
          "output_type": "stream",
          "text": [
            "10.428571428571429\n",
            "10.428571428571429\n",
            "[11, 20, 15, 20, 11, 44]\n",
            "[11, 20, 15, 20, 11, 44]\n",
            "[11, 20, 15, 20, 11, 44]\n"
          ]
        }
      ],
      "source": [
        "import statistics\n",
        "import numpy as np\n",
        "\n",
        "# Using the statstics module to gather the mean\n",
        "print(statistics.mean(numbers))\n",
        "\n",
        "# Using the numpy library to gather the mean as well\n",
        "print(np.mean(numbers))\n",
        "\n",
        "# There are three ways to go about this.\n",
        "\n",
        "# Number 1: Using vanilla Python\n",
        "print(list(filter(lambda x: True if x>= sum(numbers)/ len(numbers) else False, numbers)))\n",
        "\n",
        "# Number 2: Using the numpy library\n",
        "print(list(filter(lambda x: True if x >= np.mean(numbers) else False, numbers)))\n",
        "\n",
        "# Number 3: Using the Statistics module\n",
        "print(list(filter(lambda x: True if x >= statistics.mean(numbers) else False, numbers)))\n"
      ]
    },
    {
      "attachments": {},
      "cell_type": "markdown",
      "metadata": {
        "id": "wh_Bw27v_Mvr"
      },
      "source": [
        "## Recursion <br>\n",
        "<p>Recursion means that a function is calling itself, so it contanstly executes until a base case is reached. It will then push the returning values back up the chain until the function is complete. A prime example of recursion is computing factorials... such that 5! (factorial) is 5*4*3*2*1 which equals 120.</p>"
      ]
    },
    {
      "attachments": {},
      "cell_type": "markdown",
      "metadata": {
        "id": "mB6AfpzO_Mvr"
      },
      "source": [
        "#### Implementing a Base Case"
      ]
    },
    {
      "cell_type": "code",
      "execution_count": 2,
      "metadata": {
        "id": "_Q3YQH6d_Mvr"
      },
      "outputs": [
        {
          "ename": "",
          "evalue": "",
          "output_type": "error",
          "traceback": [
            "\u001b[1;31mCanceled future for execute_request message before replies were done"
          ]
        },
        {
          "ename": "",
          "evalue": "",
          "output_type": "error",
          "traceback": [
            "\u001b[1;31mThe Kernel crashed while executing code in the the current cell or a previous cell. Please review the code in the cell(s) to identify a possible cause of the failure. Click <a href='https://aka.ms/vscodeJupyterKernelCrash'>here</a> for more info. View Jupyter <a href='command:jupyter.viewOutput'>log</a> for further details."
          ]
        }
      ],
      "source": [
        "### Show a way to break the program by creating an infinite loop\n",
        "\n",
        "\n",
        "def add_nums_breakable(num):\n",
        "    #without a base case, we willl end up infinetely looping though our program \n",
        "    if num >-20000:\n",
        "        return num + add_nums_breakable(num-1)\n",
        "    else:\n",
        "        return num\n",
        "\n",
        "add_nums_breakable(5)\n"
      ]
    },
    {
      "cell_type": "code",
      "execution_count": 1,
      "metadata": {},
      "outputs": [
        {
          "name": "stdout",
          "output_type": "stream",
          "text": [
            "add_nums5) = 5 - add_nums(4)\n",
            "add_nums4) = 4 - add_nums(3)\n",
            "add_nums3) = 3 - add_nums(2)\n",
            "add_nums2) = 2 - add_nums(1)\n",
            "add_nums(1) = 1\n"
          ]
        },
        {
          "data": {
            "text/plain": [
              "3"
            ]
          },
          "execution_count": 1,
          "metadata": {},
          "output_type": "execute_result"
        }
      ],
      "source": [
        "'''what is base case?\n",
        " a base is what cause the function to break out of its infinite loop!\n",
        " it evaluates ithe value of the number or string at the moment it recutrs. to stop from going any further \n",
        " these need to be implemented at the bekgining of your function, not after the recursive call\n",
        "'''\n",
        "\n",
        "def add_nums(num):\n",
        "    if num<=1:\n",
        "        print('add_nums(1) = 1')\n",
        "        return num\n",
        "    else:\n",
        "        print(f'add_nums{num}) = {num} - add_nums({num - 1})')\n",
        "        return num - add_nums(num-1)\n",
        "add_nums(5)"
      ]
    },
    {
      "attachments": {},
      "cell_type": "markdown",
      "metadata": {
        "id": "1DdB7n2q_Mvr"
      },
      "source": [
        "#### Writing a Factorial Function"
      ]
    },
    {
      "cell_type": "code",
      "execution_count": 2,
      "metadata": {
        "id": "LED-YD8u_Mvr"
      },
      "outputs": [
        {
          "name": "stdout",
          "output_type": "stream",
          "text": [
            "factorial(5) = 5 * factorial(4)\n",
            "None\n"
          ]
        },
        {
          "data": {
            "text/plain": [
              "120"
            ]
          },
          "execution_count": 2,
          "metadata": {},
          "output_type": "execute_result"
        }
      ],
      "source": [
        "#5! = 5 * 4 *3 * 2 * 1\n",
        "def factorial(num):\n",
        "    if num <= 1:\n",
        "        print(f'factorial({num}) = {num}')\n",
        "        return 1\n",
        "    else:\n",
        "        print(f'factorial({num}) = {num} * factorial({num - 1})')\n",
        "print(factorial(5))\n",
        "5*4*3*2*1"
      ]
    },
    {
      "attachments": {},
      "cell_type": "markdown",
      "metadata": {
        "id": "gdifMekI_Mvs"
      },
      "source": [
        "#### In-Class Exercise #4 <br>\n",
        "<p>Write a recursive function that subtracts all numbers to the argument given.</p>"
      ]
    },
    {
      "cell_type": "code",
      "execution_count": 3,
      "metadata": {
        "id": "-CjqAPyA_Mvs"
      },
      "outputs": [
        {
          "name": "stdout",
          "output_type": "stream",
          "text": [
            "minus_nums8) = 8 - nums_nums(7)\n",
            "minus_nums7) = 7 - nums_nums(6)\n",
            "minus_nums6) = 6 - nums_nums(5)\n",
            "minus_nums5) = 5 - nums_nums(4)\n",
            "minus_nums4) = 4 - nums_nums(3)\n",
            "minus_nums3) = 3 - nums_nums(2)\n",
            "minus_nums2) = 2 - nums_nums(1)\n",
            "minus_nums(num) = 1\n"
          ]
        },
        {
          "data": {
            "text/plain": [
              "4"
            ]
          },
          "execution_count": 3,
          "metadata": {},
          "output_type": "execute_result"
        }
      ],
      "source": [
        "def minus(num):\n",
        "    if num <=1:\n",
        "        print(f'minus_nums(num) = {num}')\n",
        "        return num\n",
        "    else:\n",
        "        print(f'minus_nums{num}) = {num} - nums_nums({num - 1})')\n",
        "        return num - minus(num-1)\n",
        "minus(8)"
      ]
    },
    {
      "attachments": {},
      "cell_type": "markdown",
      "metadata": {
        "id": "6JL8oSYM_Mvs"
      },
      "source": [
        "## Generators <br>\n",
        "<p>Generators are a type of iterable, like lists or tuples. They do not allow indexing, but they can still be iterated through with for loops. They are created using functions and the yield statement.</p>"
      ]
    },
    {
      "attachments": {},
      "cell_type": "markdown",
      "metadata": {
        "id": "FWfVp4Wi_Mvs"
      },
      "source": [
        "#### Yield Keyword <br>\n",
        "<p>The yield keyword denotes a generator, it doesn't return so it won't leave the function and reset all variables in the function scope, instead it yields the number back to the caller.</p>"
      ]
    },
    {
      "cell_type": "code",
      "execution_count": 4,
      "metadata": {
        "id": "JVQbI32I_Mvs"
      },
      "outputs": [
        {
          "data": {
            "text/plain": [
              "[0, 2, 4, 6, 8]"
            ]
          },
          "execution_count": 4,
          "metadata": {},
          "output_type": "execute_result"
        }
      ],
      "source": [
        "#print(type(range(0,10)))\n",
        "\n",
        "# can be thought of as a conveyer belt \n",
        "def my_range(stop, start = 0, step = 2):\n",
        "    while start < stop:\n",
        "        yield start # yield  means that is going to be a generator. it will not return anything when the function is run \n",
        "        start += step\n",
        "[i for i in my_range(10)]\n",
        "\n",
        "\n"
      ]
    },
    {
      "attachments": {},
      "cell_type": "markdown",
      "metadata": {
        "id": "gybASoTd_Mvt"
      },
      "source": [
        "#### In-Class Exercise #5 <br>\n",
        "<p>Create a generator that takes a number argument and yields that number squared, then prints each number squared until zero is reached.</p>"
      ]
    },
    {
      "cell_type": "code",
      "execution_count": 5,
      "metadata": {
        "id": "VlLNzwSO_Mvt"
      },
      "outputs": [
        {
          "data": {
            "text/plain": [
              "[25, 16, 9, 4, 1]"
            ]
          },
          "execution_count": 5,
          "metadata": {},
          "output_type": "execute_result"
        }
      ],
      "source": [
        "def squared_nums(num):\n",
        "    while num > 0:\n",
        "        yield num ** 2\n",
        "        num -= 1\n",
        "        \n",
        "[i for i in squared_nums(5)]"
      ]
    },
    {
      "attachments": {},
      "cell_type": "markdown",
      "metadata": {
        "id": "99N2jCkG_Mvt"
      },
      "source": [
        "# Exercises"
      ]
    },
    {
      "attachments": {},
      "cell_type": "markdown",
      "metadata": {
        "id": "ozx5y6j2_Mvt"
      },
      "source": [
        "### Exercise #1 <br>\n",
        "<p>Filter out all of the empty strings from the list below</p>\n",
        "\n",
        "`Output: ['Argentina', 'San Diego', 'Boston', 'New York']`"
      ]
    },
    {
      "cell_type": "code",
      "execution_count": 8,
      "metadata": {
        "id": "mJ7BY64n_Mvt"
      },
      "outputs": [
        {
          "name": "stdout",
          "output_type": "stream",
          "text": [
            "['Argentina', 'San Diego', 'Boston', 'New York']\n"
          ]
        }
      ],
      "source": [
        "places = [\" \",\"Argentina\", \" \", \"San Diego\",\"\",\"  \",\"\",\"Boston\",\"New York\"]\n",
        "\n",
        "#print(\"Original list is : \" + str(places))\n",
        "result = list(filter(lambda x: x.strip() != '', places))\n",
        "print(result)\n"
      ]
    },
    {
      "attachments": {},
      "cell_type": "markdown",
      "metadata": {
        "id": "DrAfmmXo_Mvu"
      },
      "source": [
        "### Exercise #2 <br>\n",
        "<p>Write an anonymous function that sorts this list by the last name...<br><b>Hint: Use the \".sort()\" method and access the key\"</b></p>\n",
        "\n",
        "`Output: ['Victor aNisimov', 'Gary A.J. Bernstein', 'Joel Carter', 'Andrew P. Garfield', 'David hassELHOFF']`"
      ]
    },
    {
      "cell_type": "code",
      "execution_count": 10,
      "metadata": {
        "id": "Pw5O-x_N_Mvu"
      },
      "outputs": [
        {
          "name": "stdout",
          "output_type": "stream",
          "text": [
            "['Gary A.J. Bernstein', 'Joel Carter', 'Andrew P. Garfield', 'Victor aNisimov', 'David hassELHOFF']\n"
          ]
        }
      ],
      "source": [
        "author = [\"Joel Carter\", \"Victor aNisimov\", \"Andrew P. Garfield\",\"David hassELHOFF\",\"Gary A.J. Bernstein\"]\n",
        "\n",
        "author.sort(key=lambda x: x.split()[-1])\n",
        "print(author)"
      ]
    },
    {
      "attachments": {},
      "cell_type": "markdown",
      "metadata": {
        "id": "M_fIpVQg_Mvu"
      },
      "source": [
        "### Exercise #3 <br>\n",
        "<p>Convert the list below from Celsius to Farhenheit, using the map function with a lambda...</p>\n",
        "\n",
        "`Output: [('Nashua', 89.6), ('Boston', 53.6), ('Los Angelos', 111.2), ('Miami', 84.2)]\n",
        "`"
      ]
    },
    {
      "cell_type": "code",
      "execution_count": 11,
      "metadata": {
        "id": "8Ro4CSOD_Mvu"
      },
      "outputs": [
        {
          "name": "stdout",
          "output_type": "stream",
          "text": [
            "[('Nashua', 89.6), ('Boston', 53.6), ('Los Angelos', 111.2), ('Miami', 84.2)]\n"
          ]
        }
      ],
      "source": [
        "# F = (9/5)*C + 32\n",
        "places = [('Nashua',32),(\"Boston\",12),(\"Los Angelos\",44),(\"Miami\",29)]\n",
        "\n",
        "result = list(map(lambda x: (x[0], (9/5)*x[1] +32), places))\n",
        "print(result)\n"
      ]
    },
    {
      "attachments": {},
      "cell_type": "markdown",
      "metadata": {
        "id": "uoQyjMFz_Mvv"
      },
      "source": [
        "### Exercise #4 <br>\n",
        "<p>Write a recursion function to perform the fibonacci sequence up to the number passed in.</p>\n",
        "\n",
        "`Output for fib(5) => \n",
        "Iteration 0: 1\n",
        "Iteration 1: 1\n",
        "Iteration 2: 2\n",
        "Iteration 3: 3\n",
        "Iteration 4: 5\n",
        "Iteration 5: 8`"
      ]
    },
    {
      "cell_type": "code",
      "execution_count": 12,
      "metadata": {
        "id": "4WlF3yVZ_Mvv",
        "scrolled": true
      },
      "outputs": [
        {
          "name": "stdout",
          "output_type": "stream",
          "text": [
            "Iteration 0: 1\n",
            "Iteration 1: 1\n",
            "Iteration 2: 2\n",
            "Iteration 3: 3\n",
            "Iteration 4: 5\n"
          ]
        }
      ],
      "source": [
        "def fib_sequence(n):\n",
        "    if n <= 0:\n",
        "        return []\n",
        "    elif n == 1:\n",
        "        return [1]\n",
        "    elif n == 2:\n",
        "        return [1, 1]\n",
        "    else:\n",
        "        sequence = fib_sequence(n - 1)\n",
        "        sequence.append(sequence[-1] + sequence[-2])\n",
        "        return sequence\n",
        "\n",
        "\n",
        "n = 5\n",
        "result = fib_sequence(n)\n",
        "for i in range(len(result)):\n",
        "    print(f\"Iteration {i}: {result[i]}\")"
      ]
    }
  ],
  "metadata": {
    "colab": {
      "provenance": []
    },
    "kernelspec": {
      "display_name": "Python 3",
      "language": "python",
      "name": "python3"
    },
    "language_info": {
      "codemirror_mode": {
        "name": "ipython",
        "version": 3
      },
      "file_extension": ".py",
      "mimetype": "text/x-python",
      "name": "python",
      "nbconvert_exporter": "python",
      "pygments_lexer": "ipython3",
      "version": "3.10.9"
    },
    "vscode": {
      "interpreter": {
        "hash": "26de051ba29f2982a8de78e945f0abaf191376122a1563185a90213a26c5da77"
      }
    }
  },
  "nbformat": 4,
  "nbformat_minor": 0
}
