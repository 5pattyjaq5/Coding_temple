{
 "cells": [
  {
   "attachments": {},
   "cell_type": "markdown",
   "metadata": {},
   "source": [
    "# Parking Garage Project\n",
    "\n",
    "Your assignment for today is to create a parking garage class to get more familiar with Object Oriented Programming(OOP). \n",
    "\n",
    "Your parking gargage class should have the following methods:\n",
    "- take_ticket\n",
    "   - This should decrease the amount of tickets available by 1\n",
    "   - This should decrease the amount of parking_spaces available by 1\n",
    "- pay_for_parking\n",
    "   - Display an input that waits for an amount from the user and store it in a variable\n",
    "   - If the payment variable is not empty then ->  display a message to the user that their ticket has been paid and they have 15mins to leave\n",
    "   - This should update the \"current_ticket\" dictionary key \"paid\" to True\n",
    "-leave_garage\n",
    "   - If the ticket has been paid, display a message of \"Thank You, have a nice day\"\n",
    "   - If the ticket has not been paid, display an input prompt for payment\n",
    "      - Once paid, display message \"Thank you, have a nice day!\"\n",
    "   - Update parking_spaces list to increase by 1\n",
    "   - Update tickets list to increase by 1\n",
    "\n",
    "You will need a few attributes as well:\n",
    "- tickets -> list\n",
    "- parking_spaces -> list\n",
    "- current_ticket -> dictionary"
   ]
  },
  {
   "cell_type": "code",
   "execution_count": null,
   "metadata": {},
   "outputs": [],
   "source": [
    "#''' The Garage will have tickets and spaces and items to pace inside.\n",
    "#       Attributes of this class will include:\n",
    "#        -Tickets: list \n",
    "#        -Parking Spaces: list\n",
    "#        -Current_ticket: dictionary\n",
    "#        Methods associated with our class will be:\n",
    "#        -show '''"
   ]
  },
  {
   "cell_type": "code",
   "execution_count": null,
   "metadata": {},
   "outputs": [],
   "source": [
    "# YOUR CODE HERE\n",
    "class Garage:\n",
    "    def __init__(self, tickets = [1,2.3,4,5,6,7,8,9], parking_spaces= [1,2,3,4,5,6,7,8,9], current_ticket={}):\n",
    "        self.tickets = tickets\n",
    "        self.parking_spaces = parking_spaces\n",
    "        self.current_ticket = current_ticket\n",
    "\n",
    "    def taken_ticket(self):\n",
    "        self.tickets.pop()\n",
    "        self.parking_spaces.pop()\n",
    "        if self.tickets == True:\n",
    "            print(f'Ticket has been paid and you have 15 minutes to leave')\n",
    "        if self.current_ticket == {self.tickets == True} == \"Paid ticket\":\n",
    "            print(f'Thank-you! Have a nice day! :D ')\n",
    "    \n",
    "    def parking_spaces(self):\n",
    "        self.parking_spaces.add == {self.current_ticket} == +1\n",
    "\n",
    "\n",
    "print (taken_ticket)"
   ]
  },
  {
   "cell_type": "code",
   "execution_count": null,
   "metadata": {},
   "outputs": [],
   "source": []
  }
 ],
 "metadata": {
  "kernelspec": {
   "display_name": "Python 3",
   "language": "python",
   "name": "python3"
  },
  "language_info": {
   "codemirror_mode": {
    "name": "ipython",
    "version": 3
   },
   "file_extension": ".py",
   "mimetype": "text/x-python",
   "name": "python",
   "nbconvert_exporter": "python",
   "pygments_lexer": "ipython3",
   "version": "3.10.9"
  }
 },
 "nbformat": 4,
 "nbformat_minor": 2
}
